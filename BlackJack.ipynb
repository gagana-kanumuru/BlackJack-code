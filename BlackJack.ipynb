{
 "cells": [
  {
   "cell_type": "code",
   "execution_count": 5,
   "id": "eb325ece",
   "metadata": {},
   "outputs": [
    {
     "name": "stdout",
     "output_type": "stream",
     "text": [
      "Your cards : [11, 3], current score: 14\n",
      "Computer's first card : 10\n",
      "Type 'y' to get another card, type 'n' to pass: y\n",
      "Your cards : [3, 10, 1], current score: 14\n",
      "Computer's first card : 10\n",
      "Type 'y' to get another card, type 'n' to pass: y\n",
      "Your cards : [3, 10, 1, 1], current score: 15\n",
      "Computer's first card : 10\n",
      "Type 'y' to get another card, type 'n' to pass: y\n",
      "Your cards : [3, 10, 1, 1, 10], current score: 25\n",
      "Computer's first card : 10\n",
      "Your final hand: [3, 10, 1, 1, 10], Your final score: 25\n",
      "Computer's final hand: [10, 6, 6], Computer's final score: 22\n",
      "You went over. You lose!!\n"
     ]
    }
   ],
   "source": [
    "import random\n",
    "\n",
    "def deal_card():\n",
    "    cards = [11, 2, 3, 4, 5, 6, 7, 8, 9, 10, 10, 10, 10]\n",
    "    card = random.choice(cards)\n",
    "    return card\n",
    "\n",
    "def calculate(cards):\n",
    "    if sum(cards) == 21 and len(cards) == 2:\n",
    "        return 0\n",
    "    if 11 in cards and sum(cards) > 21:\n",
    "        cards.remove(11)\n",
    "        cards.append(1)\n",
    "    \n",
    "    return sum(cards)\n",
    "\n",
    "def compare(user_score, comp_score):\n",
    "    if user_score == comp_score:\n",
    "        return \"Draw\"\n",
    "    elif comp_score == 0:\n",
    "        return \"Lose, opponent has blackjack\"\n",
    "    elif user_score == 0:\n",
    "        return \"Win with a Blackjack\"\n",
    "    elif user_score > 21:\n",
    "        return \"You went over. You lose!!\"\n",
    "    elif comp_score > 21:\n",
    "        return \"Opponent went over. You win!!\"\n",
    "    elif user_score > comp_score:\n",
    "        return \"You win!!\"\n",
    "    else:\n",
    "        return \"You lose!!:(\"\n",
    "\n",
    "user_cards = []\n",
    "comp_cards = []\n",
    "is_game_over = False\n",
    "\n",
    "for _ in range(2):\n",
    "    user_cards.append(deal_card())\n",
    "    comp_cards.append(deal_card())\n",
    "    \n",
    "while not is_game_over:\n",
    "    \n",
    "    user_score = calculate(user_cards)\n",
    "    comp_score = calculate(comp_cards)\n",
    "    \n",
    "    print(f\"Your cards : {user_cards}, current score: {user_score}\")\n",
    "    print(f\"Computer's first card : {comp_cards[0]}\")\n",
    "\n",
    "    if user_score == 0 or comp_score == 0 or user_score > 21 or comp_score > 21:\n",
    "        is_game_over = True\n",
    "    else:\n",
    "        user_decision = input(\"Type 'y' to get another card, type 'n' to pass: \")\n",
    "        if user_decision == \"y\":\n",
    "            user_cards.append(deal_card())\n",
    "        else:\n",
    "            is_game_over = True\n",
    "\n",
    "while comp_score !=0 and comp_score < 17:\n",
    "    comp_cards.append(deal_card())\n",
    "    comp_score = calculate(comp_cards)\n",
    "    \n",
    "print(f\"Your final hand: {user_cards}, Your final score: {user_score}\")\n",
    "print(f\"Computer's final hand: {comp_cards}, Computer's final score: {comp_score}\")\n",
    "print(compare(user_score, comp_score))"
   ]
  },
  {
   "cell_type": "code",
   "execution_count": null,
   "id": "214d852f",
   "metadata": {},
   "outputs": [],
   "source": []
  }
 ],
 "metadata": {
  "kernelspec": {
   "display_name": "Python 3 (ipykernel)",
   "language": "python",
   "name": "python3"
  },
  "language_info": {
   "codemirror_mode": {
    "name": "ipython",
    "version": 3
   },
   "file_extension": ".py",
   "mimetype": "text/x-python",
   "name": "python",
   "nbconvert_exporter": "python",
   "pygments_lexer": "ipython3",
   "version": "3.10.9"
  }
 },
 "nbformat": 4,
 "nbformat_minor": 5
}
